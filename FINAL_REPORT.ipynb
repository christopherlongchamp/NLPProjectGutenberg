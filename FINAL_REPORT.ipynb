{
 "cells": [
  {
   "cell_type": "markdown",
   "id": "408e8860-afc3-4dd3-a29e-6d45887194c9",
   "metadata": {},
   "source": [
    "```yaml\n",
    "Author:    Chris Longchamp\n",
    "Email:     tdj5xk@virginia.edu\n",
    "Course:    DS 5001 \n",
    "Date:      Spring 2023\n",
    "```"
   ]
  },
  {
   "cell_type": "markdown",
   "id": "16f7f228-d9e8-4cbc-9b92-a9d0821f564e",
   "metadata": {},
   "source": [
    "# Introduction"
   ]
  },
  {
   "cell_type": "markdown",
   "id": "bb994cb2-36bf-48f5-9114-563e2628457f",
   "metadata": {},
   "source": [
    "### The Corpus that was selected for analysis was of three early 1900s writers. The three writers that have texts in the corpus were Ernest Hemingway, F. Scott Fitzgerald, and Virginia Woolf. These three authors were very influential figures at the time and are still hailed as three important authors of history. While Hemingway and Fitzgerald were American writers and produced most of their work in America, Woolf was from the United Kingdom. Thus, the project is focused on trying to identify similarities and differences between these three authors writing styles. Some of the questions that were asked of the data was are Hemingway and Fitzgerald's pieces similar to one another, was Woolf's pieces different from Hemingway and Fitzgerald's in terms of style, and what topics were most prevalent in the three writers work. "
   ]
  },
  {
   "cell_type": "markdown",
   "id": "37b91b6f-d093-4885-b879-045dbd1711ba",
   "metadata": {},
   "source": [
    "# Source Data"
   ]
  },
  {
   "cell_type": "markdown",
   "id": "95ca0517-903b-4858-9ac4-a2699ef8309c",
   "metadata": {},
   "source": [
    "### The data of these three authors comes from the Project Gutenberg collection. This collection is known to be one of the biggest digitized records of novels and short stories. The data files were in the form of `.txt` files and were stored in the repository along with this file under a folder called `final-set`. "
   ]
  }
 ],
 "metadata": {
  "kernelspec": {
   "display_name": "Python 3 (ipykernel)",
   "language": "python",
   "name": "python3"
  },
  "language_info": {
   "codemirror_mode": {
    "name": "ipython",
    "version": 3
   },
   "file_extension": ".py",
   "mimetype": "text/x-python",
   "name": "python",
   "nbconvert_exporter": "python",
   "pygments_lexer": "ipython3",
   "version": "3.9.12"
  },
  "toc-autonumbering": false,
  "toc-showcode": false,
  "toc-showmarkdowntxt": false
 },
 "nbformat": 4,
 "nbformat_minor": 5
}
